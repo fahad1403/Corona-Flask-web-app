{
 "cells": [
  {
   "cell_type": "code",
   "execution_count": 2,
   "metadata": {},
   "outputs": [
    {
     "name": "stderr",
     "output_type": "stream",
     "text": [
      "Using TensorFlow backend.\n"
     ]
    }
   ],
   "source": [
    "import numpy as np\n",
    "import os\n",
    "import time\n",
    "import keras\n",
    "from keras.applications import VGG16\n",
    "from keras.preprocessing import image\n",
    "from keras.applications.imagenet_utils import preprocess_input\n",
    "from keras.applications.imagenet_utils import decode_predictions\n",
    "from keras.layers import Dense, Activation, Flatten\n",
    "from keras.layers import merge, Input\n",
    "from keras.models import Model\n",
    "from keras.utils import np_utils\n",
    "from sklearn.utils import shuffle\n",
    "from sklearn.model_selection import train_test_split\n",
    "from keras.preprocessing import image\n",
    "import numpy as np\n",
    "from keras.applications.imagenet_utils import preprocess_input\n",
    "import os"
   ]
  },
  {
   "cell_type": "code",
   "execution_count": 5,
   "metadata": {},
   "outputs": [
    {
     "name": "stdout",
     "output_type": "stream",
     "text": [
      "(224, 224, 3)\n",
      "(1, 224, 224, 3)\n",
      "Input image shape: (1, 224, 224, 3)\n"
     ]
    }
   ],
   "source": [
    "img_path = 'dataset/covid/covid_test.jpeg'\n",
    "img = image.load_img(img_path, target_size=(224, 224))\n",
    "x = image.img_to_array(img)\n",
    "print (x.shape)\n",
    "x = np.expand_dims(x, axis=0)\n",
    "print (x.shape)\n",
    "x = preprocess_input(x)\n",
    "print('Input image shape:', x.shape)\n"
   ]
  },
  {
   "cell_type": "code",
   "execution_count": 6,
   "metadata": {},
   "outputs": [],
   "source": [
    "import os"
   ]
  },
  {
   "cell_type": "code",
   "execution_count": 148,
   "metadata": {
    "scrolled": true
   },
   "outputs": [
    {
     "name": "stdout",
     "output_type": "stream",
     "text": [
      "Loaded the images of dataset-covid\n",
      "\n",
      "Input image shape: (1, 224, 224, 3)\n",
      "Input image shape: (1, 224, 224, 3)\n",
      "Input image shape: (1, 224, 224, 3)\n",
      "Input image shape: (1, 224, 224, 3)\n",
      "Input image shape: (1, 224, 224, 3)\n",
      "Input image shape: (1, 224, 224, 3)\n",
      "Input image shape: (1, 224, 224, 3)\n",
      "Input image shape: (1, 224, 224, 3)\n",
      "Input image shape: (1, 224, 224, 3)\n",
      "Input image shape: (1, 224, 224, 3)\n",
      "Input image shape: (1, 224, 224, 3)\n",
      "Input image shape: (1, 224, 224, 3)\n",
      "Input image shape: (1, 224, 224, 3)\n",
      "Input image shape: (1, 224, 224, 3)\n",
      "Input image shape: (1, 224, 224, 3)\n",
      "Input image shape: (1, 224, 224, 3)\n",
      "Input image shape: (1, 224, 224, 3)\n",
      "Input image shape: (1, 224, 224, 3)\n",
      "Input image shape: (1, 224, 224, 3)\n",
      "Input image shape: (1, 224, 224, 3)\n",
      "Input image shape: (1, 224, 224, 3)\n",
      "Input image shape: (1, 224, 224, 3)\n",
      "Input image shape: (1, 224, 224, 3)\n",
      "Input image shape: (1, 224, 224, 3)\n",
      "Input image shape: (1, 224, 224, 3)\n",
      "Input image shape: (1, 224, 224, 3)\n",
      "Input image shape: (1, 224, 224, 3)\n",
      "Input image shape: (1, 224, 224, 3)\n",
      "Input image shape: (1, 224, 224, 3)\n",
      "Input image shape: (1, 224, 224, 3)\n",
      "Input image shape: (1, 224, 224, 3)\n",
      "Input image shape: (1, 224, 224, 3)\n",
      "Input image shape: (1, 224, 224, 3)\n",
      "Input image shape: (1, 224, 224, 3)\n",
      "Input image shape: (1, 224, 224, 3)\n",
      "Input image shape: (1, 224, 224, 3)\n",
      "Input image shape: (1, 224, 224, 3)\n",
      "Input image shape: (1, 224, 224, 3)\n",
      "Input image shape: (1, 224, 224, 3)\n",
      "Input image shape: (1, 224, 224, 3)\n",
      "Input image shape: (1, 224, 224, 3)\n",
      "Input image shape: (1, 224, 224, 3)\n",
      "Input image shape: (1, 224, 224, 3)\n",
      "Input image shape: (1, 224, 224, 3)\n",
      "Input image shape: (1, 224, 224, 3)\n",
      "Input image shape: (1, 224, 224, 3)\n",
      "Input image shape: (1, 224, 224, 3)\n",
      "Input image shape: (1, 224, 224, 3)\n",
      "Input image shape: (1, 224, 224, 3)\n",
      "Input image shape: (1, 224, 224, 3)\n",
      "Input image shape: (1, 224, 224, 3)\n",
      "Input image shape: (1, 224, 224, 3)\n",
      "Input image shape: (1, 224, 224, 3)\n",
      "Input image shape: (1, 224, 224, 3)\n",
      "Input image shape: (1, 224, 224, 3)\n",
      "Input image shape: (1, 224, 224, 3)\n",
      "Input image shape: (1, 224, 224, 3)\n",
      "Input image shape: (1, 224, 224, 3)\n",
      "Input image shape: (1, 224, 224, 3)\n",
      "Input image shape: (1, 224, 224, 3)\n",
      "Input image shape: (1, 224, 224, 3)\n",
      "Input image shape: (1, 224, 224, 3)\n",
      "Input image shape: (1, 224, 224, 3)\n",
      "Input image shape: (1, 224, 224, 3)\n",
      "Input image shape: (1, 224, 224, 3)\n",
      "Input image shape: (1, 224, 224, 3)\n",
      "Input image shape: (1, 224, 224, 3)\n",
      "Input image shape: (1, 224, 224, 3)\n",
      "Input image shape: (1, 224, 224, 3)\n",
      "Input image shape: (1, 224, 224, 3)\n",
      "Input image shape: (1, 224, 224, 3)\n",
      "Input image shape: (1, 224, 224, 3)\n",
      "Input image shape: (1, 224, 224, 3)\n",
      "Input image shape: (1, 224, 224, 3)\n",
      "Input image shape: (1, 224, 224, 3)\n",
      "Input image shape: (1, 224, 224, 3)\n",
      "Input image shape: (1, 224, 224, 3)\n",
      "Input image shape: (1, 224, 224, 3)\n",
      "Input image shape: (1, 224, 224, 3)\n",
      "Input image shape: (1, 224, 224, 3)\n",
      "Input image shape: (1, 224, 224, 3)\n",
      "Input image shape: (1, 224, 224, 3)\n",
      "Input image shape: (1, 224, 224, 3)\n",
      "Input image shape: (1, 224, 224, 3)\n",
      "Input image shape: (1, 224, 224, 3)\n",
      "Input image shape: (1, 224, 224, 3)\n",
      "Input image shape: (1, 224, 224, 3)\n",
      "Input image shape: (1, 224, 224, 3)\n",
      "Input image shape: (1, 224, 224, 3)\n",
      "Input image shape: (1, 224, 224, 3)\n",
      "Input image shape: (1, 224, 224, 3)\n",
      "Input image shape: (1, 224, 224, 3)\n",
      "Input image shape: (1, 224, 224, 3)\n",
      "Input image shape: (1, 224, 224, 3)\n",
      "Input image shape: (1, 224, 224, 3)\n",
      "Input image shape: (1, 224, 224, 3)\n",
      "Input image shape: (1, 224, 224, 3)\n",
      "Input image shape: (1, 224, 224, 3)\n",
      "Input image shape: (1, 224, 224, 3)\n",
      "Input image shape: (1, 224, 224, 3)\n",
      "Input image shape: (1, 224, 224, 3)\n",
      "Input image shape: (1, 224, 224, 3)\n",
      "Input image shape: (1, 224, 224, 3)\n",
      "Input image shape: (1, 224, 224, 3)\n",
      "Input image shape: (1, 224, 224, 3)\n",
      "Input image shape: (1, 224, 224, 3)\n",
      "Input image shape: (1, 224, 224, 3)\n",
      "Input image shape: (1, 224, 224, 3)\n",
      "Input image shape: (1, 224, 224, 3)\n",
      "Input image shape: (1, 224, 224, 3)\n",
      "Input image shape: (1, 224, 224, 3)\n",
      "Input image shape: (1, 224, 224, 3)\n",
      "Input image shape: (1, 224, 224, 3)\n",
      "Input image shape: (1, 224, 224, 3)\n",
      "Input image shape: (1, 224, 224, 3)\n",
      "Input image shape: (1, 224, 224, 3)\n",
      "Input image shape: (1, 224, 224, 3)\n",
      "Input image shape: (1, 224, 224, 3)\n",
      "Input image shape: (1, 224, 224, 3)\n",
      "Input image shape: (1, 224, 224, 3)\n",
      "Input image shape: (1, 224, 224, 3)\n",
      "Input image shape: (1, 224, 224, 3)\n",
      "Input image shape: (1, 224, 224, 3)\n",
      "Input image shape: (1, 224, 224, 3)\n",
      "Input image shape: (1, 224, 224, 3)\n",
      "Input image shape: (1, 224, 224, 3)\n",
      "Input image shape: (1, 224, 224, 3)\n",
      "Input image shape: (1, 224, 224, 3)\n",
      "Input image shape: (1, 224, 224, 3)\n",
      "Input image shape: (1, 224, 224, 3)\n",
      "Input image shape: (1, 224, 224, 3)\n",
      "Input image shape: (1, 224, 224, 3)\n",
      "Input image shape: (1, 224, 224, 3)\n",
      "Input image shape: (1, 224, 224, 3)\n",
      "Input image shape: (1, 224, 224, 3)\n",
      "Input image shape: (1, 224, 224, 3)\n",
      "Input image shape: (1, 224, 224, 3)\n",
      "Input image shape: (1, 224, 224, 3)\n",
      "Input image shape: (1, 224, 224, 3)\n",
      "Input image shape: (1, 224, 224, 3)\n",
      "Input image shape: (1, 224, 224, 3)\n",
      "Input image shape: (1, 224, 224, 3)\n",
      "Input image shape: (1, 224, 224, 3)\n",
      "Input image shape: (1, 224, 224, 3)\n",
      "Input image shape: (1, 224, 224, 3)\n",
      "Input image shape: (1, 224, 224, 3)\n",
      "Input image shape: (1, 224, 224, 3)\n",
      "Input image shape: (1, 224, 224, 3)\n",
      "Loaded the images of dataset-normal\n",
      "\n",
      "Input image shape: (1, 224, 224, 3)\n",
      "Input image shape: (1, 224, 224, 3)\n",
      "Input image shape: (1, 224, 224, 3)\n",
      "Input image shape: (1, 224, 224, 3)\n",
      "Input image shape: (1, 224, 224, 3)\n",
      "Input image shape: (1, 224, 224, 3)\n",
      "Input image shape: (1, 224, 224, 3)\n",
      "Input image shape: (1, 224, 224, 3)\n",
      "Input image shape: (1, 224, 224, 3)\n",
      "Input image shape: (1, 224, 224, 3)\n",
      "Input image shape: (1, 224, 224, 3)\n",
      "Input image shape: (1, 224, 224, 3)\n",
      "Input image shape: (1, 224, 224, 3)\n",
      "Input image shape: (1, 224, 224, 3)\n",
      "Input image shape: (1, 224, 224, 3)\n",
      "Input image shape: (1, 224, 224, 3)\n",
      "Input image shape: (1, 224, 224, 3)\n",
      "Input image shape: (1, 224, 224, 3)\n",
      "Input image shape: (1, 224, 224, 3)\n",
      "Input image shape: (1, 224, 224, 3)\n",
      "Input image shape: (1, 224, 224, 3)\n",
      "Input image shape: (1, 224, 224, 3)\n",
      "Input image shape: (1, 224, 224, 3)\n",
      "Input image shape: (1, 224, 224, 3)\n",
      "Input image shape: (1, 224, 224, 3)\n",
      "Input image shape: (1, 224, 224, 3)\n",
      "Input image shape: (1, 224, 224, 3)\n",
      "Input image shape: (1, 224, 224, 3)\n",
      "Input image shape: (1, 224, 224, 3)\n",
      "Input image shape: (1, 224, 224, 3)\n",
      "Input image shape: (1, 224, 224, 3)\n",
      "Input image shape: (1, 224, 224, 3)\n",
      "Input image shape: (1, 224, 224, 3)\n",
      "Input image shape: (1, 224, 224, 3)\n",
      "Input image shape: (1, 224, 224, 3)\n",
      "Input image shape: (1, 224, 224, 3)\n",
      "Input image shape: (1, 224, 224, 3)\n",
      "Input image shape: (1, 224, 224, 3)\n",
      "Input image shape: (1, 224, 224, 3)\n",
      "Input image shape: (1, 224, 224, 3)\n",
      "Input image shape: (1, 224, 224, 3)\n",
      "Input image shape: (1, 224, 224, 3)\n",
      "Input image shape: (1, 224, 224, 3)\n",
      "Input image shape: (1, 224, 224, 3)\n",
      "Input image shape: (1, 224, 224, 3)\n",
      "Input image shape: (1, 224, 224, 3)\n",
      "Input image shape: (1, 224, 224, 3)\n",
      "Input image shape: (1, 224, 224, 3)\n",
      "Input image shape: (1, 224, 224, 3)\n",
      "Input image shape: (1, 224, 224, 3)\n",
      "Input image shape: (1, 224, 224, 3)\n",
      "Input image shape: (1, 224, 224, 3)\n",
      "Input image shape: (1, 224, 224, 3)\n",
      "Input image shape: (1, 224, 224, 3)\n",
      "Input image shape: (1, 224, 224, 3)\n",
      "Input image shape: (1, 224, 224, 3)\n",
      "Input image shape: (1, 224, 224, 3)\n",
      "Input image shape: (1, 224, 224, 3)\n",
      "Input image shape: (1, 224, 224, 3)\n",
      "Input image shape: (1, 224, 224, 3)\n",
      "Input image shape: (1, 224, 224, 3)\n",
      "Input image shape: (1, 224, 224, 3)\n",
      "Input image shape: (1, 224, 224, 3)\n",
      "Input image shape: (1, 224, 224, 3)\n",
      "Input image shape: (1, 224, 224, 3)\n",
      "Input image shape: (1, 224, 224, 3)\n",
      "Input image shape: (1, 224, 224, 3)\n",
      "Input image shape: (1, 224, 224, 3)\n",
      "Input image shape: (1, 224, 224, 3)\n",
      "Input image shape: (1, 224, 224, 3)\n",
      "Input image shape: (1, 224, 224, 3)\n",
      "Input image shape: (1, 224, 224, 3)\n",
      "(220, 1, 224, 224, 3)\n",
      "(1, 220, 224, 224, 3)\n",
      "(220, 224, 224, 3)\n"
     ]
    }
   ],
   "source": [
    "# Loading the training data\n",
    "PATH = os.getcwd()\n",
    "# Define data path\n",
    "data_path = PATH + '/dataset'\n",
    "data_dir_list = os.listdir(data_path)\n",
    "\n",
    "img_data_list=[]\n",
    "\n",
    "for dataset in data_dir_list:\n",
    "\timg_list=os.listdir(data_path+'/'+ dataset)\n",
    "\tprint ('Loaded the images of dataset-'+'{}\\n'.format(dataset))\n",
    "\tfor img in img_list:\n",
    "\t\timg_path = data_path + '/'+ dataset + '/'+ img\n",
    "\t\timg = image.load_img(img_path, target_size=(224, 224))\n",
    "\t\tx = image.img_to_array(img)\n",
    "\t\tx = np.expand_dims(x, axis=0)\n",
    "\t\tx = preprocess_input(x)\n",
    "#\t\tx = x/255\n",
    "\t\tprint('Input image shape:', x.shape)\n",
    "\t\timg_data_list.append(x)\n",
    "\n",
    "img_data = np.array(img_data_list)\n",
    "#img_data = img_data.astype('float32')\n",
    "print (img_data.shape)\n",
    "img_data=np.rollaxis(img_data,1,0)\n",
    "print (img_data.shape)\n",
    "img_data=img_data[0]\n",
    "print (img_data.shape)\n"
   ]
  },
  {
   "cell_type": "code",
   "execution_count": 8,
   "metadata": {},
   "outputs": [],
   "source": [
    "from keras.utils.np_utils import to_categorical"
   ]
  },
  {
   "cell_type": "code",
   "execution_count": 9,
   "metadata": {},
   "outputs": [],
   "source": [
    "import keras.utils\n",
    "from keras import utils as np_utils"
   ]
  },
  {
   "cell_type": "code",
   "execution_count": 149,
   "metadata": {},
   "outputs": [],
   "source": [
    "# Define the number of classes\n",
    "num_classes = 2\n",
    "num_of_samples = img_data.shape[0]\n",
    "labels = np.ones((num_of_samples,),dtype='int64')\n",
    "\n",
    "labels[0:125]=0\n",
    "labels[125:]=1\n",
    "\n",
    "names = ['covid','normal']\n",
    "\n",
    "# convert class labels to on-hot encoding\n",
    "Y = np_utils.to_categorical(labels, num_classes)\n"
   ]
  },
  {
   "cell_type": "code",
   "execution_count": 11,
   "metadata": {},
   "outputs": [],
   "source": [
    "from sklearn.utils import shuffle"
   ]
  },
  {
   "cell_type": "code",
   "execution_count": 150,
   "metadata": {},
   "outputs": [],
   "source": [
    "x,y = img_data,Y\n",
    "# Split the dataset\n",
    "X_train, X_test, y_train, y_test = train_test_split(x, y, test_size=0.2, random_state=2)\n"
   ]
  },
  {
   "cell_type": "code",
   "execution_count": 151,
   "metadata": {
    "scrolled": true
   },
   "outputs": [
    {
     "name": "stdout",
     "output_type": "stream",
     "text": [
      "Model: \"vgg16\"\n",
      "_________________________________________________________________\n",
      "Layer (type)                 Output Shape              Param #   \n",
      "=================================================================\n",
      "input_2 (InputLayer)         (None, 224, 224, 3)       0         \n",
      "_________________________________________________________________\n",
      "block1_conv1 (Conv2D)        (None, 224, 224, 64)      1792      \n",
      "_________________________________________________________________\n",
      "block1_conv2 (Conv2D)        (None, 224, 224, 64)      36928     \n",
      "_________________________________________________________________\n",
      "block1_pool (MaxPooling2D)   (None, 112, 112, 64)      0         \n",
      "_________________________________________________________________\n",
      "block2_conv1 (Conv2D)        (None, 112, 112, 128)     73856     \n",
      "_________________________________________________________________\n",
      "block2_conv2 (Conv2D)        (None, 112, 112, 128)     147584    \n",
      "_________________________________________________________________\n",
      "block2_pool (MaxPooling2D)   (None, 56, 56, 128)       0         \n",
      "_________________________________________________________________\n",
      "block3_conv1 (Conv2D)        (None, 56, 56, 256)       295168    \n",
      "_________________________________________________________________\n",
      "block3_conv2 (Conv2D)        (None, 56, 56, 256)       590080    \n",
      "_________________________________________________________________\n",
      "block3_conv3 (Conv2D)        (None, 56, 56, 256)       590080    \n",
      "_________________________________________________________________\n",
      "block3_pool (MaxPooling2D)   (None, 28, 28, 256)       0         \n",
      "_________________________________________________________________\n",
      "block4_conv1 (Conv2D)        (None, 28, 28, 512)       1180160   \n",
      "_________________________________________________________________\n",
      "block4_conv2 (Conv2D)        (None, 28, 28, 512)       2359808   \n",
      "_________________________________________________________________\n",
      "block4_conv3 (Conv2D)        (None, 28, 28, 512)       2359808   \n",
      "_________________________________________________________________\n",
      "block4_pool (MaxPooling2D)   (None, 14, 14, 512)       0         \n",
      "_________________________________________________________________\n",
      "block5_conv1 (Conv2D)        (None, 14, 14, 512)       2359808   \n",
      "_________________________________________________________________\n",
      "block5_conv2 (Conv2D)        (None, 14, 14, 512)       2359808   \n",
      "_________________________________________________________________\n",
      "block5_conv3 (Conv2D)        (None, 14, 14, 512)       2359808   \n",
      "_________________________________________________________________\n",
      "block5_pool (MaxPooling2D)   (None, 7, 7, 512)         0         \n",
      "_________________________________________________________________\n",
      "flatten (Flatten)            (None, 25088)             0         \n",
      "_________________________________________________________________\n",
      "fc1 (Dense)                  (None, 4096)              102764544 \n",
      "_________________________________________________________________\n",
      "fc2 (Dense)                  (None, 4096)              16781312  \n",
      "_________________________________________________________________\n",
      "predictions (Dense)          (None, 1000)              4097000   \n",
      "=================================================================\n",
      "Total params: 138,357,544\n",
      "Trainable params: 138,357,544\n",
      "Non-trainable params: 0\n",
      "_________________________________________________________________\n"
     ]
    }
   ],
   "source": [
    "# Custom_vgg_model_1\n",
    "#Training the classifier alone\n",
    "image_input = Input(shape=(224, 224, 3))\n",
    "\n",
    "model = VGG16(input_tensor=image_input, include_top=True,weights='imagenet')\n",
    "model.summary()\n"
   ]
  },
  {
   "cell_type": "code",
   "execution_count": 152,
   "metadata": {
    "scrolled": true
   },
   "outputs": [
    {
     "name": "stdout",
     "output_type": "stream",
     "text": [
      "Model: \"model_2\"\n",
      "_________________________________________________________________\n",
      "Layer (type)                 Output Shape              Param #   \n",
      "=================================================================\n",
      "input_2 (InputLayer)         (None, 224, 224, 3)       0         \n",
      "_________________________________________________________________\n",
      "block1_conv1 (Conv2D)        (None, 224, 224, 64)      1792      \n",
      "_________________________________________________________________\n",
      "block1_conv2 (Conv2D)        (None, 224, 224, 64)      36928     \n",
      "_________________________________________________________________\n",
      "block1_pool (MaxPooling2D)   (None, 112, 112, 64)      0         \n",
      "_________________________________________________________________\n",
      "block2_conv1 (Conv2D)        (None, 112, 112, 128)     73856     \n",
      "_________________________________________________________________\n",
      "block2_conv2 (Conv2D)        (None, 112, 112, 128)     147584    \n",
      "_________________________________________________________________\n",
      "block2_pool (MaxPooling2D)   (None, 56, 56, 128)       0         \n",
      "_________________________________________________________________\n",
      "block3_conv1 (Conv2D)        (None, 56, 56, 256)       295168    \n",
      "_________________________________________________________________\n",
      "block3_conv2 (Conv2D)        (None, 56, 56, 256)       590080    \n",
      "_________________________________________________________________\n",
      "block3_conv3 (Conv2D)        (None, 56, 56, 256)       590080    \n",
      "_________________________________________________________________\n",
      "block3_pool (MaxPooling2D)   (None, 28, 28, 256)       0         \n",
      "_________________________________________________________________\n",
      "block4_conv1 (Conv2D)        (None, 28, 28, 512)       1180160   \n",
      "_________________________________________________________________\n",
      "block4_conv2 (Conv2D)        (None, 28, 28, 512)       2359808   \n",
      "_________________________________________________________________\n",
      "block4_conv3 (Conv2D)        (None, 28, 28, 512)       2359808   \n",
      "_________________________________________________________________\n",
      "block4_pool (MaxPooling2D)   (None, 14, 14, 512)       0         \n",
      "_________________________________________________________________\n",
      "block5_conv1 (Conv2D)        (None, 14, 14, 512)       2359808   \n",
      "_________________________________________________________________\n",
      "block5_conv2 (Conv2D)        (None, 14, 14, 512)       2359808   \n",
      "_________________________________________________________________\n",
      "block5_conv3 (Conv2D)        (None, 14, 14, 512)       2359808   \n",
      "_________________________________________________________________\n",
      "block5_pool (MaxPooling2D)   (None, 7, 7, 512)         0         \n",
      "_________________________________________________________________\n",
      "flatten (Flatten)            (None, 25088)             0         \n",
      "_________________________________________________________________\n",
      "fc1 (Dense)                  (None, 4096)              102764544 \n",
      "_________________________________________________________________\n",
      "fc2 (Dense)                  (None, 4096)              16781312  \n",
      "_________________________________________________________________\n",
      "output (Dense)               (None, 2)                 8194      \n",
      "=================================================================\n",
      "Total params: 134,268,738\n",
      "Trainable params: 134,268,738\n",
      "Non-trainable params: 0\n",
      "_________________________________________________________________\n"
     ]
    }
   ],
   "source": [
    "last_layer = model.get_layer('fc2').output\n",
    "#x= Flatten(name='flatten')(last_layer)\n",
    "out = Dense(num_classes, activation='softmax', name='output')(last_layer)\n",
    "custom_vgg_model = Model(image_input, out)\n",
    "custom_vgg_model.summary()"
   ]
  },
  {
   "cell_type": "code",
   "execution_count": 153,
   "metadata": {},
   "outputs": [],
   "source": [
    "for layer in custom_vgg_model.layers[:-1]:\n",
    "\tlayer.trainable = False\n",
    "\n",
    "custom_vgg_model.layers[3].trainable\n",
    "\n",
    "custom_vgg_model.compile(loss='binary_crossentropy',optimizer='Adam',metrics=['accuracy'])"
   ]
  },
  {
   "cell_type": "code",
   "execution_count": 154,
   "metadata": {},
   "outputs": [
    {
     "data": {
      "text/plain": [
       "<keras.optimizers.Adam at 0x1bc878a1088>"
      ]
     },
     "execution_count": 154,
     "metadata": {},
     "output_type": "execute_result"
    }
   ],
   "source": [
    "keras.optimizers.Adam(lr=0.001)"
   ]
  },
  {
   "cell_type": "code",
   "execution_count": 155,
   "metadata": {},
   "outputs": [],
   "source": [
    "from keras.callbacks import EarlyStopping, ModelCheckpoint"
   ]
  },
  {
   "cell_type": "code",
   "execution_count": 156,
   "metadata": {},
   "outputs": [],
   "source": [
    "callbacks = [EarlyStopping(monitor='val_loss', patience=2),\n",
    "             ModelCheckpoint(filepath='best_model.h5', monitor='val_loss', save_best_only=True)]"
   ]
  },
  {
   "cell_type": "code",
   "execution_count": 157,
   "metadata": {
    "scrolled": true
   },
   "outputs": [
    {
     "name": "stdout",
     "output_type": "stream",
     "text": [
      "Train on 176 samples, validate on 44 samples\n",
      "Epoch 1/50\n",
      "176/176 [==============================] - 54s 306ms/step - loss: 0.4921 - accuracy: 0.8068 - val_loss: 0.5336 - val_accuracy: 0.8636\n",
      "Epoch 2/50\n",
      "176/176 [==============================] - 53s 299ms/step - loss: 0.1761 - accuracy: 0.9318 - val_loss: 0.5289 - val_accuracy: 0.8409\n",
      "Epoch 3/50\n",
      "176/176 [==============================] - 52s 298ms/step - loss: 0.0941 - accuracy: 0.9716 - val_loss: 0.4578 - val_accuracy: 0.9091\n",
      "Epoch 4/50\n",
      "176/176 [==============================] - 54s 306ms/step - loss: 0.0433 - accuracy: 0.9830 - val_loss: 0.4769 - val_accuracy: 0.9091\n",
      "Epoch 5/50\n",
      "176/176 [==============================] - 52s 293ms/step - loss: 0.0359 - accuracy: 0.9886 - val_loss: 0.4805 - val_accuracy: 0.9091\n",
      "[INFO] loss=0.0010, accuracy: 100.0000%\n"
     ]
    }
   ],
   "source": [
    "hist = custom_vgg_model.fit(X_train, y_train,callbacks=callbacks, batch_size=14, epochs=50, verbose=1, validation_data=(X_test, y_test))\n",
    "#(loss, accuracy) = custom_vgg_model.evaluate(X_test, y_test, batch_size=10, verbose=1)\n",
    "\n",
    "print(\"[INFO] loss={:.4f}, accuracy: {:.4f}%\".format(loss,accuracy * 100))\n",
    "#custom_vgg_model.save('my_model.h5')"
   ]
  },
  {
   "cell_type": "code",
   "execution_count": 160,
   "metadata": {},
   "outputs": [
    {
     "name": "stdout",
     "output_type": "stream",
     "text": [
      "44/44 [==============================] - 11s 240ms/step\n",
      "test loss, test acc: [0.48048565739935095, 0.9090909361839294]\n"
     ]
    }
   ],
   "source": [
    "results  = custom_vgg_model.evaluate(X_test, y_test, batch_size=12, verbose=1)\n",
    "print('test loss, test acc:', results)"
   ]
  },
  {
   "cell_type": "code",
   "execution_count": 161,
   "metadata": {},
   "outputs": [
    {
     "data": {
      "image/png": "[encoded data removed]",
      "text/plain": [
       "<Figure size 432x288 with 1 Axes>"
      ]
     },
     "metadata": {
      "needs_background": "light"
     },
     "output_type": "display_data"
    }
   ],
   "source": [
    "plt.plot(hist.history['accuracy'])\n",
    "plt.plot(hist.history['val_accuracy'])\n",
    "plt.title('model accuracy')\n",
    "plt.ylabel('accuracy')\n",
    "plt.xlabel('epoch')\n",
    "plt.legend(['train', 'val'], loc='upper left')\n",
    "plt.show()"
   ]
  },
  {
   "cell_type": "code",
   "execution_count": 162,
   "metadata": {},
   "outputs": [
    {
     "data": {
      "image/png": "[encoded data removed]",
      "text/plain": [
       "<Figure size 432x288 with 1 Axes>"
      ]
     },
     "metadata": {
      "needs_background": "light"
     },
     "output_type": "display_data"
    }
   ],
   "source": [
    "plt.plot(hist.history['loss'])\n",
    "plt.plot(hist.history['val_loss'])\n",
    "plt.title('model loss')\n",
    "plt.ylabel('loss')\n",
    "plt.xlabel('epoch')\n",
    "plt.legend(['train', 'val'], loc='upper left')\n",
    "plt.show()"
   ]
  },
  {
   "cell_type": "code",
   "execution_count": 164,
   "metadata": {},
   "outputs": [],
   "source": [
    "import cv2\n",
    "import matplotlib.pyplot as plt"
   ]
  },
  {
   "cell_type": "code",
   "execution_count": 171,
   "metadata": {},
   "outputs": [
    {
     "data": {
      "text/plain": [
       "<matplotlib.image.AxesImage at 0x1bc8ade5c08>"
      ]
     },
     "execution_count": 171,
     "metadata": {},
     "output_type": "execute_result"
    },
    {
     "data": {
      "image/png": "[encoded data removed]",
      "text/plain": [
       "<Figure size 432x288 with 1 Axes>"
      ]
     },
     "metadata": {
      "needs_background": "light"
     },
     "output_type": "display_data"
    }
   ],
   "source": [
    "img=cv2.imread('dataset/normal/IM-0214-0001.jpeg')\n",
    "plt.imshow(img)\n"
   ]
  },
  {
   "cell_type": "code",
   "execution_count": 172,
   "metadata": {},
   "outputs": [],
   "source": [
    "img = cv2.resize(img,(224,224))\n",
    "img = np.reshape(img,[1,224,224,3])"
   ]
  },
  {
   "cell_type": "code",
   "execution_count": 173,
   "metadata": {},
   "outputs": [],
   "source": [
    "classes = custom_vgg_model.predict(img)"
   ]
  },
  {
   "cell_type": "code",
   "execution_count": 174,
   "metadata": {},
   "outputs": [
    {
     "data": {
      "text/plain": [
       "array([0.00353467, 0.9964653 ], dtype=float32)"
      ]
     },
     "execution_count": 174,
     "metadata": {},
     "output_type": "execute_result"
    }
   ],
   "source": [
    "list=classes.flatten()#converting 2d numpy array to 1d array\n",
    "list"
   ]
  },
  {
   "cell_type": "code",
   "execution_count": 175,
   "metadata": {},
   "outputs": [
    {
     "name": "stdout",
     "output_type": "stream",
     "text": [
      "Covid=0.3535%, Normal: 99.6465%\n"
     ]
    }
   ],
   "source": [
    "print(\"Covid={:.4f}%, Normal: {:.4f}%\".format(list[0] * 100, list[1] * 100))"
   ]
  },
  {
   "cell_type": "code",
   "execution_count": 176,
   "metadata": {},
   "outputs": [
    {
     "data": {
      "text/plain": [
       "<module 'matplotlib.pyplot' from 'C:\\\\ProgramData\\\\Anaconda3\\\\lib\\\\site-packages\\\\matplotlib\\\\pyplot.py'>"
      ]
     },
     "execution_count": 176,
     "metadata": {},
     "output_type": "execute_result"
    },
    {
     "data": {
      "image/png": "[encoded data removed]",
      "text/plain": [
       "<Figure size 432x288 with 1 Axes>"
      ]
     },
     "metadata": {
      "needs_background": "light"
     },
     "output_type": "display_data"
    }
   ],
   "source": [
    "plt.bar(1,list[0], label=\"Covid\", color='r')\n",
    "plt.bar(2,list[1], label=\"Normal\", color='g')\n",
    "plt.legend()\n",
    "plt"
   ]
  },
  {
   "cell_type": "code",
   "execution_count": null,
   "metadata": {},
   "outputs": [],
   "source": [
    "custom_vgg_model.load('best_model.h5')"
   ]
  }
 ],
 "metadata": {
  "kernelspec": {
   "display_name": "Python 3",
   "language": "python",
   "name": "python3"
  },
  "language_info": {
   "codemirror_mode": {
    "name": "ipython",
    "version": 3
   },
   "file_extension": ".py",
   "mimetype": "text/x-python",
   "name": "python",
   "nbconvert_exporter": "python",
   "pygments_lexer": "ipython3",
   "version": "3.7.4"
  }
 },
 "nbformat": 4,
 "nbformat_minor": 2
}
